{
 "cells": [
  {
   "cell_type": "code",
   "execution_count": null,
   "metadata": {
    "vscode": {
     "languageId": "plaintext"
    }
   },
   "outputs": [],
   "source": [
    "#imports\n",
    "import streamlit as st\n",
    "import pandas as pd\n",
    "import base64\n",
    "import matplotlib.pyplot as plt\n",
    "import seaborn as sns\n",
    "import numpy as np\n",
    "import yfinance as yf\n"
   ]
  },
  {
   "cell_type": "code",
   "execution_count": null,
   "metadata": {
    "vscode": {
     "languageId": "plaintext"
    }
   },
   "outputs": [],
   "source": [
    "st.title('S&P 500 Checker')\n",
    "st.markdown(\"\"\"\n",
    "This code fetches list of the **S&P 500**  and its corresponding **stock closing price** (year-to-date)!\n",
    "\n",
    "\"\"\")"
   ]
  },
  {
   "cell_type": "code",
   "execution_count": null,
   "metadata": {
    "vscode": {
     "languageId": "plaintext"
    }
   },
   "outputs": [],
   "source": [
    "st.sidebar.header('User Input Features')\n"
   ]
  },
  {
   "cell_type": "code",
   "execution_count": null,
   "metadata": {
    "vscode": {
     "languageId": "plaintext"
    }
   },
   "outputs": [],
   "source": [
    "# Web scraping of S&P 500 data\n",
    "#\n",
    "@st.cache\n",
    "def load_data():\n",
    "    url = 'https://en.wikipedia.org/wiki/List_of_S%26P_500_companies'\n",
    "    html = pd.read_html(url, header = 0)\n",
    "    df = html[0]\n",
    "    return df"
   ]
  },
  {
   "cell_type": "code",
   "execution_count": null,
   "metadata": {
    "vscode": {
     "languageId": "plaintext"
    }
   },
   "outputs": [],
   "source": [
    "df = load_data()\n",
    "sector = df.groupby('GICS Sector')\n"
   ]
  },
  {
   "cell_type": "code",
   "execution_count": null,
   "metadata": {
    "vscode": {
     "languageId": "plaintext"
    }
   },
   "outputs": [],
   "source": [
    "# Sidebar - Sector selection\n",
    "sorted_sector_unique = sorted( df['GICS Sector'].unique() )\n",
    "selected_sector = st.sidebar.multiselect('Sector', sorted_sector_unique, sorted_sector_unique)\n",
    "\n",
    "# Filtering data\n",
    "df_selected_sector = df[ (df['GICS Sector'].isin(selected_sector)) ]\n",
    "\n",
    "st.header('Show selected companies')\n",
    "st.write('Data Dimension: ' + str(df_selected_sector.shape[0]) + ' rows and ' + str(df_selected_sector.shape[1]) + ' columns.')\n",
    "st.dataframe(df_selected_sector)"
   ]
  },
  {
   "cell_type": "code",
   "execution_count": null,
   "metadata": {
    "vscode": {
     "languageId": "plaintext"
    }
   },
   "outputs": [],
   "source": [
    "# Download S&P500 data\n",
    "\n",
    "def filedownload(df):\n",
    "    csv = df.to_csv(index=False)\n",
    "    b64 = base64.b64encode(csv.encode()).decode()  # strings <-> bytes conversions\n",
    "    href = f'<a href=\"data:file/csv;base64,{b64}\" download=\"SP500.csv\">Download CSV File</a>'\n",
    "    return href\n",
    "st.markdown(filedownload(df_selected_sector), unsafe_allow_html=True)"
   ]
  },
  {
   "cell_type": "code",
   "execution_count": null,
   "metadata": {
    "vscode": {
     "languageId": "plaintext"
    }
   },
   "outputs": [],
   "source": [
    "# Plot Closing Price of Query Symbol\n",
    "def price_plot(symbol):\n",
    "  df = pd.DataFrame(data[symbol].Close)\n",
    "  df['Date'] = df.index\n",
    "  plt.fill_between(df.Date, df.Close, color='skyblue', alpha=0.3)\n",
    "  plt.plot(df.Date, df.Close, color='skyblue', alpha=0.8)\n",
    "  plt.xticks(rotation=90)\n",
    "  plt.title(symbol, fontweight='bold')\n",
    "  plt.xlabel('Date', fontweight='bold')\n",
    "  plt.ylabel('Closing Price', fontweight='bold')\n",
    "  return st.pyplot()\n",
    "\n",
    "num_company = st.sidebar.slider('Number of Companies', 1, 5)\n",
    "\n",
    "if st.button('Show Plots'):\n",
    "    st.header('Stock Closing Price')\n",
    "    for i in list(df_selected_sector.Symbol)[:num_company]:\n",
    "        price_plot(i)"
   ]
  },
  {
   "cell_type": "code",
   "execution_count": null,
   "metadata": {
    "vscode": {
     "languageId": "plaintext"
    }
   },
   "outputs": [],
   "source": []
  }
 ],
 "metadata": {
  "language_info": {
   "name": "python"
  }
 },
 "nbformat": 4,
 "nbformat_minor": 2
}
